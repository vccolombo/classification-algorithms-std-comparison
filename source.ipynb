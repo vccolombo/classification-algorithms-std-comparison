{
 "cells": [
  {
   "cell_type": "code",
   "execution_count": 1,
   "metadata": {},
   "outputs": [],
   "source": [
    "# import warnings\n",
    "# warnings.filterwarnings('ignore')\n",
    "import pandas as pd\n",
    "from sklearn.model_selection import train_test_split\n",
    "from sklearn.linear_model import LogisticRegression\n",
    "from sklearn.discriminant_analysis import LinearDiscriminantAnalysis\n",
    "from sklearn.neighbors import KNeighborsClassifier\n",
    "from sklearn.tree import DecisionTreeClassifier\n",
    "from sklearn.svm import SVC\n",
    "from sklearn.ensemble import GradientBoostingClassifier, RandomForestClassifier\n",
    "from sklearn.model_selection import StratifiedKFold, cross_val_score\n",
    "from sklearn.metrics import accuracy_score, classification_report\n",
    "from sklearn.preprocessing import StandardScaler"
   ]
  },
  {
   "cell_type": "code",
   "execution_count": 2,
   "metadata": {},
   "outputs": [],
   "source": [
    "cancer_data = pd.read_csv(\"data/breast-cancer-wisconsin.csv\")\n",
    "banknote_data = pd.read_csv(\"data/data_banknote_authentication.csv\")\n",
    "diabetes_data = pd.read_csv(\"data/diabetes.csv\")\n",
    "seeds_data = pd.read_csv(\"data/seeds_dataset.csv\")"
   ]
  },
  {
   "cell_type": "code",
   "execution_count": 3,
   "metadata": {},
   "outputs": [
    {
     "name": "stdout",
     "output_type": "stream",
     "text": [
      "<class 'pandas.core.frame.DataFrame'>\n",
      "RangeIndex: 569 entries, 0 to 568\n",
      "Data columns (total 32 columns):\n",
      " #   Column                   Non-Null Count  Dtype  \n",
      "---  ------                   --------------  -----  \n",
      " 0   id                       569 non-null    int64  \n",
      " 1   diagnosis                569 non-null    int64  \n",
      " 2   radius_mean              569 non-null    float64\n",
      " 3   texture_mean             569 non-null    float64\n",
      " 4   perimeter_mean           569 non-null    float64\n",
      " 5   area_mean                569 non-null    float64\n",
      " 6   smoothness_mean          569 non-null    float64\n",
      " 7   compactness_mean         569 non-null    float64\n",
      " 8   concavity_mean           569 non-null    float64\n",
      " 9   concave points_mean      569 non-null    float64\n",
      " 10  symmetry_mean            569 non-null    float64\n",
      " 11  fractal_dimension_mean   569 non-null    float64\n",
      " 12  radius_se                569 non-null    float64\n",
      " 13  texture_se               569 non-null    float64\n",
      " 14  perimeter_se             569 non-null    float64\n",
      " 15  area_se                  569 non-null    float64\n",
      " 16  smoothness_se            569 non-null    float64\n",
      " 17  compactness_se           569 non-null    float64\n",
      " 18  concavity_se             569 non-null    float64\n",
      " 19  concave points_se        569 non-null    float64\n",
      " 20  symmetry_se              569 non-null    float64\n",
      " 21  fractal_dimension_se     569 non-null    float64\n",
      " 22  radius_worst             569 non-null    float64\n",
      " 23  texture_worst            569 non-null    float64\n",
      " 24  perimeter_worst          569 non-null    float64\n",
      " 25  area_worst               569 non-null    float64\n",
      " 26  smoothness_worst         569 non-null    float64\n",
      " 27  compactness_worst        569 non-null    float64\n",
      " 28  concavity_worst          569 non-null    float64\n",
      " 29  concave points_worst     569 non-null    float64\n",
      " 30  symmetry_worst           569 non-null    float64\n",
      " 31  fractal_dimension_worst  569 non-null    float64\n",
      "dtypes: float64(30), int64(2)\n",
      "memory usage: 142.4 KB\n"
     ]
    }
   ],
   "source": [
    "cancer_data[\"diagnosis\"] = cancer_data[\"diagnosis\"].apply(lambda x: 1 if x == 'M' else 0)\n",
    "cancer_data.info()"
   ]
  },
  {
   "cell_type": "code",
   "execution_count": 4,
   "metadata": {},
   "outputs": [],
   "source": [
    "cancer_Y = cancer_data[\"diagnosis\"]\n",
    "cancer_X = cancer_data.drop(columns=[\"id\", \"diagnosis\"])"
   ]
  },
  {
   "cell_type": "code",
   "execution_count": 5,
   "metadata": {},
   "outputs": [
    {
     "name": "stdout",
     "output_type": "stream",
     "text": [
      "<class 'pandas.core.frame.DataFrame'>\n",
      "RangeIndex: 1372 entries, 0 to 1371\n",
      "Data columns (total 5 columns):\n",
      " #   Column    Non-Null Count  Dtype  \n",
      "---  ------    --------------  -----  \n",
      " 0   variance  1372 non-null   float64\n",
      " 1   skewness  1372 non-null   float64\n",
      " 2   curtosis  1372 non-null   float64\n",
      " 3   entropy   1372 non-null   float64\n",
      " 4   class     1372 non-null   int64  \n",
      "dtypes: float64(4), int64(1)\n",
      "memory usage: 53.7 KB\n"
     ]
    }
   ],
   "source": [
    "banknote_data.info()"
   ]
  },
  {
   "cell_type": "code",
   "execution_count": 6,
   "metadata": {},
   "outputs": [],
   "source": [
    "banknote_Y = banknote_data[\"class\"]\n",
    "banknote_X = banknote_data.drop(columns=[\"class\"])"
   ]
  },
  {
   "cell_type": "code",
   "execution_count": 7,
   "metadata": {},
   "outputs": [
    {
     "name": "stdout",
     "output_type": "stream",
     "text": [
      "<class 'pandas.core.frame.DataFrame'>\n",
      "RangeIndex: 768 entries, 0 to 767\n",
      "Data columns (total 9 columns):\n",
      " #   Column                    Non-Null Count  Dtype  \n",
      "---  ------                    --------------  -----  \n",
      " 0   Pregnancies               768 non-null    int64  \n",
      " 1   Glucose                   768 non-null    int64  \n",
      " 2   BloodPressure             768 non-null    int64  \n",
      " 3   SkinThickness             768 non-null    int64  \n",
      " 4   Insulin                   768 non-null    int64  \n",
      " 5   BMI                       768 non-null    float64\n",
      " 6   DiabetesPedigreeFunction  768 non-null    float64\n",
      " 7   Age                       768 non-null    int64  \n",
      " 8   Outcome                   768 non-null    int64  \n",
      "dtypes: float64(2), int64(7)\n",
      "memory usage: 54.1 KB\n"
     ]
    }
   ],
   "source": [
    "diabetes_data.info()"
   ]
  },
  {
   "cell_type": "code",
   "execution_count": 8,
   "metadata": {},
   "outputs": [],
   "source": [
    "diabetes_Y = diabetes_data[\"Outcome\"]\n",
    "diabetes_X = diabetes_data.drop(columns=[\"Outcome\"])"
   ]
  },
  {
   "cell_type": "code",
   "execution_count": 9,
   "metadata": {},
   "outputs": [
    {
     "name": "stdout",
     "output_type": "stream",
     "text": [
      "<class 'pandas.core.frame.DataFrame'>\n",
      "RangeIndex: 199 entries, 0 to 198\n",
      "Data columns (total 8 columns):\n",
      " #   Column         Non-Null Count  Dtype  \n",
      "---  ------         --------------  -----  \n",
      " 0   area           199 non-null    float64\n",
      " 1   perimeter      199 non-null    float64\n",
      " 2   compactness    199 non-null    float64\n",
      " 3   kernel_length  199 non-null    float64\n",
      " 4   width          199 non-null    float64\n",
      " 5   asymmetry      199 non-null    float64\n",
      " 6   groove_length  199 non-null    float64\n",
      " 7   class          199 non-null    int64  \n",
      "dtypes: float64(7), int64(1)\n",
      "memory usage: 12.6 KB\n"
     ]
    }
   ],
   "source": [
    "seeds_data.info()"
   ]
  },
  {
   "cell_type": "code",
   "execution_count": 10,
   "metadata": {},
   "outputs": [],
   "source": [
    "seeds_Y = seeds_data[\"class\"]\n",
    "seeds_X = seeds_data.drop(columns=[\"class\"])"
   ]
  },
  {
   "cell_type": "code",
   "execution_count": 11,
   "metadata": {},
   "outputs": [],
   "source": [
    "datasets = []\n",
    "datasets.append(('Cancer', cancer_X, cancer_Y))\n",
    "datasets.append(('Banknote', banknote_X, banknote_Y))\n",
    "datasets.append(('Diabetes', diabetes_X, diabetes_Y))\n",
    "datasets.append(('Seeds', seeds_X, seeds_Y))"
   ]
  },
  {
   "cell_type": "code",
   "execution_count": 12,
   "metadata": {},
   "outputs": [],
   "source": [
    "models = []\n",
    "models.append(('LR', LogisticRegression(solver='liblinear', multi_class='ovr')))\n",
    "models.append(('KNN', KNeighborsClassifier()))\n",
    "models.append(('TREE', DecisionTreeClassifier()))\n",
    "models.append(('SVM', SVC(gamma='auto', probability=True)))\n",
    "models.append(('GB', GradientBoostingClassifier()))\n",
    "models.append(('RF', RandomForestClassifier()))"
   ]
  },
  {
   "cell_type": "code",
   "execution_count": 13,
   "metadata": {},
   "outputs": [],
   "source": [
    "def runModels(X, Y):\n",
    "    X_train, X_test, Y_train, Y_test = train_test_split (\n",
    "        X, Y, test_size = 0.20, random_state=42)\n",
    "\n",
    "    for name, model in models:\n",
    "#         kfold = StratifiedKFold(n_splits=10, random_state=42, shuffle=True)\n",
    "#         cv_results = cross_val_score(model, X_train, Y_train, cv=kfold, scoring='accuracy')\n",
    "#         print('%s: %.4f (%.4f)' % (name, cv_results.mean(), cv_results.std()))\n",
    "        \n",
    "        model.fit(X_train, Y_train)\n",
    "        predictions = model.predict(X_test)\n",
    "        print('%s: %.4f' % (name, accuracy_score(Y_test, predictions)))"
   ]
  },
  {
   "cell_type": "code",
   "execution_count": 14,
   "metadata": {},
   "outputs": [
    {
     "name": "stdout",
     "output_type": "stream",
     "text": [
      "Cancer\n",
      "LR: 0.9561\n",
      "KNN: 0.9561\n",
      "TREE: 0.9474\n",
      "SVM: 0.6228\n",
      "GB: 0.9561\n",
      "RF: 0.9649\n",
      "\n",
      "Banknote\n",
      "LR: 0.9855\n",
      "KNN: 1.0000\n",
      "TREE: 0.9782\n",
      "SVM: 1.0000\n",
      "GB: 1.0000\n",
      "RF: 0.9927\n",
      "\n",
      "Diabetes\n",
      "LR: 0.7597\n",
      "KNN: 0.6623\n",
      "TREE: 0.7273\n",
      "SVM: 0.6429\n",
      "GB: 0.7403\n",
      "RF: 0.7273\n",
      "\n",
      "Seeds\n",
      "LR: 0.8500\n",
      "KNN: 0.8500\n",
      "TREE: 0.8500\n",
      "SVM: 0.8750\n",
      "GB: 0.8750\n",
      "RF: 0.8500\n",
      "\n"
     ]
    }
   ],
   "source": [
    "for name, X, Y in datasets:\n",
    "    print(name)\n",
    "    runModels(X, Y)\n",
    "    print()"
   ]
  },
  {
   "cell_type": "code",
   "execution_count": 15,
   "metadata": {},
   "outputs": [
    {
     "name": "stdout",
     "output_type": "stream",
     "text": [
      "Scaled Cancer\n",
      "LR: 0.9737\n",
      "KNN: 0.9474\n",
      "TREE: 0.9298\n",
      "SVM: 0.9737\n",
      "GB: 0.9561\n",
      "RF: 0.9649\n",
      "\n",
      "Scaled Banknote\n",
      "LR: 0.9782\n",
      "KNN: 1.0000\n",
      "TREE: 0.9818\n",
      "SVM: 1.0000\n",
      "GB: 1.0000\n",
      "RF: 0.9927\n",
      "\n",
      "Scaled Diabetes\n",
      "LR: 0.7532\n",
      "KNN: 0.6883\n",
      "TREE: 0.7468\n",
      "SVM: 0.7338\n",
      "GB: 0.7403\n",
      "RF: 0.7273\n",
      "\n",
      "Scaled Seeds\n",
      "LR: 0.8750\n",
      "KNN: 0.8750\n",
      "TREE: 0.8500\n",
      "SVM: 0.8750\n",
      "GB: 0.9000\n",
      "RF: 0.8500\n",
      "\n"
     ]
    }
   ],
   "source": [
    "scaler = StandardScaler()\n",
    "for name, X, Y in datasets:\n",
    "    print('Scaled', name)\n",
    "    scaled_X = scaler.fit(X).transform(X)\n",
    "    runModels(scaled_X, Y)\n",
    "    print()"
   ]
  }
 ],
 "metadata": {
  "kernelspec": {
   "display_name": "Python 3",
   "language": "python",
   "name": "python3"
  },
  "language_info": {
   "codemirror_mode": {
    "name": "ipython",
    "version": 3
   },
   "file_extension": ".py",
   "mimetype": "text/x-python",
   "name": "python",
   "nbconvert_exporter": "python",
   "pygments_lexer": "ipython3",
   "version": "3.8.3"
  }
 },
 "nbformat": 4,
 "nbformat_minor": 4
}
